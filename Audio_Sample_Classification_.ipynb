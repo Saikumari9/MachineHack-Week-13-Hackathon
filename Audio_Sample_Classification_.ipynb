{
  "nbformat": 4,
  "nbformat_minor": 0,
  "metadata": {
    "colab": {
      "provenance": []
    },
    "kernelspec": {
      "name": "python3",
      "display_name": "Python 3"
    },
    "language_info": {
      "name": "python"
    }
  },
  "cells": [
    {
      "cell_type": "code",
      "source": [
        "!pip install librosa"
      ],
      "metadata": {
        "colab": {
          "base_uri": "https://localhost:8080/"
        },
        "id": "hqNDQqaUmRci",
        "outputId": "9e45d312-0f04-4675-9440-563ab6aabb92"
      },
      "execution_count": 1,
      "outputs": [
        {
          "output_type": "stream",
          "name": "stdout",
          "text": [
            "Requirement already satisfied: librosa in /usr/local/lib/python3.10/dist-packages (0.10.2.post1)\n",
            "Requirement already satisfied: audioread>=2.1.9 in /usr/local/lib/python3.10/dist-packages (from librosa) (3.0.1)\n",
            "Requirement already satisfied: numpy!=1.22.0,!=1.22.1,!=1.22.2,>=1.20.3 in /usr/local/lib/python3.10/dist-packages (from librosa) (1.26.4)\n",
            "Requirement already satisfied: scipy>=1.2.0 in /usr/local/lib/python3.10/dist-packages (from librosa) (1.13.1)\n",
            "Requirement already satisfied: scikit-learn>=0.20.0 in /usr/local/lib/python3.10/dist-packages (from librosa) (1.5.2)\n",
            "Requirement already satisfied: joblib>=0.14 in /usr/local/lib/python3.10/dist-packages (from librosa) (1.4.2)\n",
            "Requirement already satisfied: decorator>=4.3.0 in /usr/local/lib/python3.10/dist-packages (from librosa) (4.4.2)\n",
            "Requirement already satisfied: numba>=0.51.0 in /usr/local/lib/python3.10/dist-packages (from librosa) (0.60.0)\n",
            "Requirement already satisfied: soundfile>=0.12.1 in /usr/local/lib/python3.10/dist-packages (from librosa) (0.12.1)\n",
            "Requirement already satisfied: pooch>=1.1 in /usr/local/lib/python3.10/dist-packages (from librosa) (1.8.2)\n",
            "Requirement already satisfied: soxr>=0.3.2 in /usr/local/lib/python3.10/dist-packages (from librosa) (0.5.0.post1)\n",
            "Requirement already satisfied: typing-extensions>=4.1.1 in /usr/local/lib/python3.10/dist-packages (from librosa) (4.12.2)\n",
            "Requirement already satisfied: lazy-loader>=0.1 in /usr/local/lib/python3.10/dist-packages (from librosa) (0.4)\n",
            "Requirement already satisfied: msgpack>=1.0 in /usr/local/lib/python3.10/dist-packages (from librosa) (1.1.0)\n",
            "Requirement already satisfied: packaging in /usr/local/lib/python3.10/dist-packages (from lazy-loader>=0.1->librosa) (24.1)\n",
            "Requirement already satisfied: llvmlite<0.44,>=0.43.0dev0 in /usr/local/lib/python3.10/dist-packages (from numba>=0.51.0->librosa) (0.43.0)\n",
            "Requirement already satisfied: platformdirs>=2.5.0 in /usr/local/lib/python3.10/dist-packages (from pooch>=1.1->librosa) (4.3.6)\n",
            "Requirement already satisfied: requests>=2.19.0 in /usr/local/lib/python3.10/dist-packages (from pooch>=1.1->librosa) (2.32.3)\n",
            "Requirement already satisfied: threadpoolctl>=3.1.0 in /usr/local/lib/python3.10/dist-packages (from scikit-learn>=0.20.0->librosa) (3.5.0)\n",
            "Requirement already satisfied: cffi>=1.0 in /usr/local/lib/python3.10/dist-packages (from soundfile>=0.12.1->librosa) (1.17.1)\n",
            "Requirement already satisfied: pycparser in /usr/local/lib/python3.10/dist-packages (from cffi>=1.0->soundfile>=0.12.1->librosa) (2.22)\n",
            "Requirement already satisfied: charset-normalizer<4,>=2 in /usr/local/lib/python3.10/dist-packages (from requests>=2.19.0->pooch>=1.1->librosa) (3.4.0)\n",
            "Requirement already satisfied: idna<4,>=2.5 in /usr/local/lib/python3.10/dist-packages (from requests>=2.19.0->pooch>=1.1->librosa) (3.10)\n",
            "Requirement already satisfied: urllib3<3,>=1.21.1 in /usr/local/lib/python3.10/dist-packages (from requests>=2.19.0->pooch>=1.1->librosa) (2.2.3)\n",
            "Requirement already satisfied: certifi>=2017.4.17 in /usr/local/lib/python3.10/dist-packages (from requests>=2.19.0->pooch>=1.1->librosa) (2024.8.30)\n"
          ]
        }
      ]
    },
    {
      "cell_type": "code",
      "source": [
        "import keras\n",
        "from keras.models import Sequential\n",
        "from keras.layers import Activation,Dense, Dropout, Flatten, Conv2D, MaxPooling2D\n",
        "import librosa\n",
        "import librosa.display\n",
        "import numpy as np\n",
        "import pandas as pd\n",
        "import random\n",
        "import matplotlib.pyplot as plt\n",
        "%matplotlib inline\n",
        "import os\n",
        "import warnings\n",
        "warnings.filterwarnings('ignore')"
      ],
      "metadata": {
        "id": "AwXSZykkmSLf"
      },
      "execution_count": 2,
      "outputs": []
    },
    {
      "cell_type": "code",
      "source": [
        "os.getcwd()\n",
        "print(os.listdir())"
      ],
      "metadata": {
        "colab": {
          "base_uri": "https://localhost:8080/"
        },
        "id": "SrFVSarymW3y",
        "outputId": "82cc0d5b-f4f8-4d70-d37a-05e8a1d713cd"
      },
      "execution_count": 3,
      "outputs": [
        {
          "output_type": "stream",
          "name": "stdout",
          "text": [
            "['.config', 'Dataset', 'Dataset.zip', 'sample_data']\n"
          ]
        }
      ]
    },
    {
      "cell_type": "code",
      "source": [
        "import os\n",
        "import zipfile\n",
        "\n",
        "path = os.getcwd()\n",
        "file_name = \"Dataset.zip\"\n",
        "new_path = os.path.join(path, file_name)\n",
        "with zipfile.ZipFile(new_path, 'r') as zip_ref:\n",
        "    zip_ref.extractall(os.path.splitext(new_path)[0])\n",
        "os.chdir(os.path.splitext(new_path)[0])"
      ],
      "metadata": {
        "id": "nMj75toNmbxj"
      },
      "execution_count": 4,
      "outputs": []
    },
    {
      "cell_type": "code",
      "source": [
        "import os\n",
        "import zipfile\n",
        "import pandas as pd\n",
        "import numpy as np\n",
        "import librosa\n",
        "import librosa.display\n",
        "from sklearn.model_selection import train_test_split\n",
        "from sklearn.ensemble import RandomForestClassifier\n",
        "from sklearn.metrics import accuracy_score, classification_report\n",
        "import matplotlib.pyplot as plt\n",
        "import seaborn as sns\n",
        "from google.colab import files\n",
        "with zipfile.ZipFile('/content/Dataset.zip', 'r') as zip_ref:\n",
        "    zip_ref.extractall('/content/Dataset')\n",
        "train_csv_path = '/content/Dataset/Dataset/Train.csv'\n",
        "test_csv_path = '/content/Dataset/Dataset/Test.csv'\n",
        "submission_csv_path = '/content/Dataset/Dataset/Submission.csv'\n",
        "audio_files_path = '/content/Dataset/Dataset/Audio_Files'\n"
      ],
      "metadata": {
        "id": "_NKMxsnzm9kZ"
      },
      "execution_count": 5,
      "outputs": []
    },
    {
      "cell_type": "code",
      "source": [
        "\n",
        "train_df = pd.read_csv(train_csv_path)\n",
        "test_df = pd.read_csv(test_csv_path)\n",
        "submission_df = pd.read_csv(submission_csv_path)\n",
        "print(\"Train CSV:\")\n",
        "print(train_df.head())\n",
        "print(\"\\nTest CSV:\")\n",
        "print(test_df.head())\n",
        "print(\"\\nSubmission CSV:\")\n",
        "print(submission_df.head())\n"
      ],
      "metadata": {
        "colab": {
          "base_uri": "https://localhost:8080/"
        },
        "id": "-ifud3tfm9fz",
        "outputId": "30cc781b-4837-4cc6-ed49-ab5293235ad3"
      },
      "execution_count": 6,
      "outputs": [
        {
          "output_type": "stream",
          "name": "stdout",
          "text": [
            "Train CSV:\n",
            "         New Classification\n",
            "0  1725_.wav          Major\n",
            "1  1659_.wav          Minor\n",
            "2  2029_.wav          Major\n",
            "3  2093_.wav          Minor\n",
            "4  1661_.wav          Major\n",
            "\n",
            "Test CSV:\n",
            "         New\n",
            "0  1837_.wav\n",
            "1  1670_.wav\n",
            "2  1463_.wav\n",
            "3  1424_.wav\n",
            "4  1366_.wav\n",
            "\n",
            "Submission CSV:\n",
            "  Classification\n",
            "0          Major\n",
            "1          Major\n",
            "2          Major\n",
            "3          Major\n",
            "4          Major\n"
          ]
        }
      ]
    },
    {
      "cell_type": "code",
      "source": [
        "!pip install resampy\n"
      ],
      "metadata": {
        "colab": {
          "base_uri": "https://localhost:8080/"
        },
        "id": "5F-FKqVdnhCj",
        "outputId": "22055721-d397-41e5-8ba0-b4f063f13bbc"
      },
      "execution_count": 7,
      "outputs": [
        {
          "output_type": "stream",
          "name": "stdout",
          "text": [
            "Requirement already satisfied: resampy in /usr/local/lib/python3.10/dist-packages (0.4.3)\n",
            "Requirement already satisfied: numpy>=1.17 in /usr/local/lib/python3.10/dist-packages (from resampy) (1.26.4)\n",
            "Requirement already satisfied: numba>=0.53 in /usr/local/lib/python3.10/dist-packages (from resampy) (0.60.0)\n",
            "Requirement already satisfied: llvmlite<0.44,>=0.43.0dev0 in /usr/local/lib/python3.10/dist-packages (from numba>=0.53->resampy) (0.43.0)\n"
          ]
        }
      ]
    },
    {
      "cell_type": "code",
      "source": [
        "\n",
        "!pip install librosa==0.10.2.post1 resampy==0.4.3\n"
      ],
      "metadata": {
        "colab": {
          "base_uri": "https://localhost:8080/"
        },
        "id": "ITtVqD2jnwij",
        "outputId": "f3c01270-bc9c-4102-e76a-6ac1d96a704b"
      },
      "execution_count": 8,
      "outputs": [
        {
          "output_type": "stream",
          "name": "stdout",
          "text": [
            "Found existing installation: librosa 0.10.2.post1\n",
            "Uninstalling librosa-0.10.2.post1:\n",
            "  Would remove:\n",
            "    /usr/local/lib/python3.10/dist-packages/librosa-0.10.2.post1.dist-info/*\n",
            "    /usr/local/lib/python3.10/dist-packages/librosa/*\n",
            "  Would not remove (might be manually added):\n",
            "    /usr/local/lib/python3.10/dist-packages/librosa/core/__pycache__/audio._zc_wrapper-1158.py310.1.nbc\n",
            "    /usr/local/lib/python3.10/dist-packages/librosa/core/__pycache__/audio._zc_wrapper-1158.py310.2.nbc\n",
            "    /usr/local/lib/python3.10/dist-packages/librosa/core/__pycache__/audio._zc_wrapper-1158.py310.nbi\n",
            "    /usr/local/lib/python3.10/dist-packages/librosa/core/__pycache__/guf-audio._zc_wrapper-1158.py310.1.nbc\n",
            "    /usr/local/lib/python3.10/dist-packages/librosa/core/__pycache__/guf-audio._zc_wrapper-1158.py310.2.nbc\n",
            "    /usr/local/lib/python3.10/dist-packages/librosa/core/__pycache__/guf-audio._zc_wrapper-1158.py310.nbi\n",
            "    /usr/local/lib/python3.10/dist-packages/librosa/util/__pycache__/guf-utils.__peak_pick-1209.py310.1.nbc\n",
            "    /usr/local/lib/python3.10/dist-packages/librosa/util/__pycache__/guf-utils.__peak_pick-1209.py310.2.nbc\n",
            "    /usr/local/lib/python3.10/dist-packages/librosa/util/__pycache__/guf-utils.__peak_pick-1209.py310.3.nbc\n",
            "    /usr/local/lib/python3.10/dist-packages/librosa/util/__pycache__/guf-utils.__peak_pick-1209.py310.4.nbc\n",
            "    /usr/local/lib/python3.10/dist-packages/librosa/util/__pycache__/guf-utils.__peak_pick-1209.py310.nbi\n",
            "    /usr/local/lib/python3.10/dist-packages/librosa/util/__pycache__/guf-utils._localmax-1051.py310.1.nbc\n",
            "    /usr/local/lib/python3.10/dist-packages/librosa/util/__pycache__/guf-utils._localmax-1051.py310.2.nbc\n",
            "    /usr/local/lib/python3.10/dist-packages/librosa/util/__pycache__/guf-utils._localmax-1051.py310.3.nbc\n",
            "    /usr/local/lib/python3.10/dist-packages/librosa/util/__pycache__/guf-utils._localmax-1051.py310.4.nbc\n",
            "    /usr/local/lib/python3.10/dist-packages/librosa/util/__pycache__/guf-utils._localmax-1051.py310.5.nbc\n",
            "    /usr/local/lib/python3.10/dist-packages/librosa/util/__pycache__/guf-utils._localmax-1051.py310.nbi\n",
            "    /usr/local/lib/python3.10/dist-packages/librosa/util/__pycache__/guf-utils._localmin-1068.py310.1.nbc\n",
            "    /usr/local/lib/python3.10/dist-packages/librosa/util/__pycache__/guf-utils._localmin-1068.py310.2.nbc\n",
            "    /usr/local/lib/python3.10/dist-packages/librosa/util/__pycache__/guf-utils._localmin-1068.py310.3.nbc\n",
            "    /usr/local/lib/python3.10/dist-packages/librosa/util/__pycache__/guf-utils._localmin-1068.py310.4.nbc\n",
            "    /usr/local/lib/python3.10/dist-packages/librosa/util/__pycache__/guf-utils._localmin-1068.py310.5.nbc\n",
            "    /usr/local/lib/python3.10/dist-packages/librosa/util/__pycache__/guf-utils._localmin-1068.py310.nbi\n",
            "    /usr/local/lib/python3.10/dist-packages/librosa/util/__pycache__/utils.__peak_pick-1209.py310.1.nbc\n",
            "    /usr/local/lib/python3.10/dist-packages/librosa/util/__pycache__/utils.__peak_pick-1209.py310.2.nbc\n",
            "    /usr/local/lib/python3.10/dist-packages/librosa/util/__pycache__/utils.__peak_pick-1209.py310.3.nbc\n",
            "    /usr/local/lib/python3.10/dist-packages/librosa/util/__pycache__/utils.__peak_pick-1209.py310.4.nbc\n",
            "    /usr/local/lib/python3.10/dist-packages/librosa/util/__pycache__/utils.__peak_pick-1209.py310.nbi\n",
            "    /usr/local/lib/python3.10/dist-packages/librosa/util/__pycache__/utils._cabs2-2452.py310.1.nbc\n",
            "    /usr/local/lib/python3.10/dist-packages/librosa/util/__pycache__/utils._cabs2-2452.py310.2.nbc\n",
            "    /usr/local/lib/python3.10/dist-packages/librosa/util/__pycache__/utils._cabs2-2452.py310.nbi\n",
            "    /usr/local/lib/python3.10/dist-packages/librosa/util/__pycache__/utils._localmax-1051.py310.1.nbc\n",
            "    /usr/local/lib/python3.10/dist-packages/librosa/util/__pycache__/utils._localmax-1051.py310.2.nbc\n",
            "    /usr/local/lib/python3.10/dist-packages/librosa/util/__pycache__/utils._localmax-1051.py310.3.nbc\n",
            "    /usr/local/lib/python3.10/dist-packages/librosa/util/__pycache__/utils._localmax-1051.py310.4.nbc\n",
            "    /usr/local/lib/python3.10/dist-packages/librosa/util/__pycache__/utils._localmax-1051.py310.5.nbc\n",
            "    /usr/local/lib/python3.10/dist-packages/librosa/util/__pycache__/utils._localmax-1051.py310.nbi\n",
            "    /usr/local/lib/python3.10/dist-packages/librosa/util/__pycache__/utils._localmin-1068.py310.1.nbc\n",
            "    /usr/local/lib/python3.10/dist-packages/librosa/util/__pycache__/utils._localmin-1068.py310.2.nbc\n",
            "    /usr/local/lib/python3.10/dist-packages/librosa/util/__pycache__/utils._localmin-1068.py310.3.nbc\n",
            "    /usr/local/lib/python3.10/dist-packages/librosa/util/__pycache__/utils._localmin-1068.py310.4.nbc\n",
            "    /usr/local/lib/python3.10/dist-packages/librosa/util/__pycache__/utils._localmin-1068.py310.5.nbc\n",
            "    /usr/local/lib/python3.10/dist-packages/librosa/util/__pycache__/utils._localmin-1068.py310.nbi\n",
            "    /usr/local/lib/python3.10/dist-packages/librosa/util/__pycache__/utils._phasor_angles-2504.py310.1.nbc\n",
            "    /usr/local/lib/python3.10/dist-packages/librosa/util/__pycache__/utils._phasor_angles-2504.py310.2.nbc\n",
            "    /usr/local/lib/python3.10/dist-packages/librosa/util/__pycache__/utils._phasor_angles-2504.py310.nbi\n",
            "Proceed (Y/n)? \u001b[31mERROR: Operation cancelled by user\u001b[0m\u001b[31m\n",
            "\u001b[0mTraceback (most recent call last):\n",
            "  File \"/usr/local/lib/python3.10/dist-packages/pip/_internal/cli/base_command.py\", line 179, in exc_logging_wrapper\n",
            "    status = run_func(*args)\n",
            "  File \"/usr/local/lib/python3.10/dist-packages/pip/_internal/commands/uninstall.py\", line 106, in run\n",
            "    uninstall_pathset = req.uninstall(\n",
            "  File \"/usr/local/lib/python3.10/dist-packages/pip/_internal/req/req_install.py\", line 722, in uninstall\n",
            "    uninstalled_pathset.remove(auto_confirm, verbose)\n",
            "  File \"/usr/local/lib/python3.10/dist-packages/pip/_internal/req/req_uninstall.py\", line 364, in remove\n",
            "    if auto_confirm or self._allowed_to_proceed(verbose):\n",
            "  File \"/usr/local/lib/python3.10/dist-packages/pip/_internal/req/req_uninstall.py\", line 404, in _allowed_to_proceed\n",
            "    return ask(\"Proceed (Y/n)? \", (\"y\", \"n\", \"\")) != \"n\"\n",
            "  File \"/usr/local/lib/python3.10/dist-packages/pip/_internal/utils/misc.py\", line 235, in ask\n",
            "    response = input(message)\n",
            "KeyboardInterrupt\n",
            "\n",
            "During handling of the above exception, another exception occurred:\n",
            "\n",
            "Traceback (most recent call last):\n",
            "  File \"/usr/local/bin/pip3\", line 8, in <module>\n",
            "    sys.exit(main())\n",
            "  File \"/usr/local/lib/python3.10/dist-packages/pip/_internal/cli/main.py\", line 80, in main\n",
            "    return command.main(cmd_args)\n",
            "  File \"/usr/local/lib/python3.10/dist-packages/pip/_internal/cli/base_command.py\", line 100, in main\n",
            "    return self._main(args)\n",
            "  File \"/usr/local/lib/python3.10/dist-packages/pip/_internal/cli/base_command.py\", line 232, in _main\n",
            "    return run(options, args)\n",
            "  File \"/usr/local/lib/python3.10/dist-packages/pip/_internal/cli/base_command.py\", line 215, in exc_logging_wrapper\n",
            "    logger.critical(\"Operation cancelled by user\")\n",
            "  File \"/usr/lib/python3.10/logging/__init__.py\", line 1524, in critical\n",
            "    self._log(CRITICAL, msg, args, **kwargs)\n",
            "  File \"/usr/lib/python3.10/logging/__init__.py\", line 1624, in _log\n",
            "    self.handle(record)\n",
            "  File \"/usr/lib/python3.10/logging/__init__.py\", line 1634, in handle\n",
            "    self.callHandlers(record)\n",
            "  File \"/usr/lib/python3.10/logging/__init__.py\", line 1696, in callHandlers\n",
            "    hdlr.handle(record)\n",
            "  File \"/usr/lib/python3.10/logging/__init__.py\", line 968, in handle\n",
            "    self.emit(record)\n",
            "  File \"/usr/local/lib/python3.10/dist-packages/pip/_internal/utils/logging.py\", line 177, in emit\n",
            "    self.console.print(renderable, overflow=\"ignore\", crop=False, style=style)\n",
            "  File \"/usr/local/lib/python3.10/dist-packages/pip/_vendor/rich/console.py\", line 1673, in print\n",
            "    with self:\n",
            "  File \"/usr/local/lib/python3.10/dist-packages/pip/_vendor/rich/console.py\", line 865, in __exit__\n",
            "    self._exit_buffer()\n",
            "  File \"/usr/local/lib/python3.10/dist-packages/pip/_vendor/rich/console.py\", line 823, in _exit_buffer\n",
            "    self._check_buffer()\n",
            "  File \"/usr/local/lib/python3.10/dist-packages/pip/_vendor/rich/console.py\", line 2060, in _check_buffer\n",
            "    self.file.write(text)\n",
            "KeyboardInterrupt\n",
            "^C\n",
            "Requirement already satisfied: librosa==0.10.2.post1 in /usr/local/lib/python3.10/dist-packages (0.10.2.post1)\n",
            "Requirement already satisfied: resampy==0.4.3 in /usr/local/lib/python3.10/dist-packages (0.4.3)\n",
            "Requirement already satisfied: audioread>=2.1.9 in /usr/local/lib/python3.10/dist-packages (from librosa==0.10.2.post1) (3.0.1)\n",
            "Requirement already satisfied: numpy!=1.22.0,!=1.22.1,!=1.22.2,>=1.20.3 in /usr/local/lib/python3.10/dist-packages (from librosa==0.10.2.post1) (1.26.4)\n",
            "Requirement already satisfied: scipy>=1.2.0 in /usr/local/lib/python3.10/dist-packages (from librosa==0.10.2.post1) (1.13.1)\n",
            "Requirement already satisfied: scikit-learn>=0.20.0 in /usr/local/lib/python3.10/dist-packages (from librosa==0.10.2.post1) (1.5.2)\n",
            "Requirement already satisfied: joblib>=0.14 in /usr/local/lib/python3.10/dist-packages (from librosa==0.10.2.post1) (1.4.2)\n",
            "Requirement already satisfied: decorator>=4.3.0 in /usr/local/lib/python3.10/dist-packages (from librosa==0.10.2.post1) (4.4.2)\n",
            "Requirement already satisfied: numba>=0.51.0 in /usr/local/lib/python3.10/dist-packages (from librosa==0.10.2.post1) (0.60.0)\n",
            "Requirement already satisfied: soundfile>=0.12.1 in /usr/local/lib/python3.10/dist-packages (from librosa==0.10.2.post1) (0.12.1)\n",
            "Requirement already satisfied: pooch>=1.1 in /usr/local/lib/python3.10/dist-packages (from librosa==0.10.2.post1) (1.8.2)\n",
            "Requirement already satisfied: soxr>=0.3.2 in /usr/local/lib/python3.10/dist-packages (from librosa==0.10.2.post1) (0.5.0.post1)\n",
            "Requirement already satisfied: typing-extensions>=4.1.1 in /usr/local/lib/python3.10/dist-packages (from librosa==0.10.2.post1) (4.12.2)\n",
            "Requirement already satisfied: lazy-loader>=0.1 in /usr/local/lib/python3.10/dist-packages (from librosa==0.10.2.post1) (0.4)\n",
            "Requirement already satisfied: msgpack>=1.0 in /usr/local/lib/python3.10/dist-packages (from librosa==0.10.2.post1) (1.1.0)\n",
            "Requirement already satisfied: packaging in /usr/local/lib/python3.10/dist-packages (from lazy-loader>=0.1->librosa==0.10.2.post1) (24.1)\n",
            "Requirement already satisfied: llvmlite<0.44,>=0.43.0dev0 in /usr/local/lib/python3.10/dist-packages (from numba>=0.51.0->librosa==0.10.2.post1) (0.43.0)\n",
            "Requirement already satisfied: platformdirs>=2.5.0 in /usr/local/lib/python3.10/dist-packages (from pooch>=1.1->librosa==0.10.2.post1) (4.3.6)\n",
            "Requirement already satisfied: requests>=2.19.0 in /usr/local/lib/python3.10/dist-packages (from pooch>=1.1->librosa==0.10.2.post1) (2.32.3)\n",
            "Requirement already satisfied: threadpoolctl>=3.1.0 in /usr/local/lib/python3.10/dist-packages (from scikit-learn>=0.20.0->librosa==0.10.2.post1) (3.5.0)\n",
            "Requirement already satisfied: cffi>=1.0 in /usr/local/lib/python3.10/dist-packages (from soundfile>=0.12.1->librosa==0.10.2.post1) (1.17.1)\n",
            "Requirement already satisfied: pycparser in /usr/local/lib/python3.10/dist-packages (from cffi>=1.0->soundfile>=0.12.1->librosa==0.10.2.post1) (2.22)\n",
            "Requirement already satisfied: charset-normalizer<4,>=2 in /usr/local/lib/python3.10/dist-packages (from requests>=2.19.0->pooch>=1.1->librosa==0.10.2.post1) (3.4.0)\n",
            "Requirement already satisfied: idna<4,>=2.5 in /usr/local/lib/python3.10/dist-packages (from requests>=2.19.0->pooch>=1.1->librosa==0.10.2.post1) (3.10)\n",
            "Requirement already satisfied: urllib3<3,>=1.21.1 in /usr/local/lib/python3.10/dist-packages (from requests>=2.19.0->pooch>=1.1->librosa==0.10.2.post1) (2.2.3)\n",
            "Requirement already satisfied: certifi>=2017.4.17 in /usr/local/lib/python3.10/dist-packages (from requests>=2.19.0->pooch>=1.1->librosa==0.10.2.post1) (2024.8.30)\n"
          ]
        }
      ]
    },
    {
      "cell_type": "code",
      "source": [
        "import sys\n",
        "sys.path.append(\"<resampy_path>\")"
      ],
      "metadata": {
        "id": "KHyJ-inUn9t0"
      },
      "execution_count": 9,
      "outputs": []
    },
    {
      "cell_type": "code",
      "source": [
        "!pip install librosa resampy --upgrade\n",
        "\n",
        "import resampy\n",
        "import librosa\n",
        "import os\n",
        "import numpy as np\n",
        "import pandas as pd\n",
        "\n",
        "def extract_features(file_name, audio_dir):\n",
        "    file_path = os.path.join(audio_dir, file_name)\n",
        "    audio, sample_rate = librosa.load(file_path, res_type='kaiser_fast')\n",
        "    mfccs = librosa.feature.mfcc(y=audio, sr=sample_rate, n_mfcc=40)\n",
        "    mfccs_scaled = np.mean(mfccs.T, axis=0)\n",
        "\n",
        "    return mfccs_scaled\n",
        "\n",
        "train_features = []\n",
        "train_labels = []\n",
        "\n",
        "for index, row in train_df.iterrows():\n",
        "    file_name = row['New']\n",
        "    label = row['Classification']\n",
        "    features = extract_features(file_name, audio_files_path)\n",
        "\n",
        "    train_features.append(features)\n",
        "    train_labels.append(label)\n",
        "\n",
        "X_train = np.array(train_features)\n",
        "y_train = np.array(train_labels)\n",
        "\n",
        "print(\"Training features shape:\", X_train.shape)\n",
        "print(\"Training labels shape:\", y_train.shape)\n"
      ],
      "metadata": {
        "colab": {
          "base_uri": "https://localhost:8080/"
        },
        "id": "dhUUouAHm9cO",
        "outputId": "f390891e-98a9-41a0-e898-ea124249edb3"
      },
      "execution_count": 10,
      "outputs": [
        {
          "output_type": "stream",
          "name": "stdout",
          "text": [
            "Requirement already satisfied: librosa in /usr/local/lib/python3.10/dist-packages (0.10.2.post1)\n",
            "Requirement already satisfied: resampy in /usr/local/lib/python3.10/dist-packages (0.4.3)\n",
            "Requirement already satisfied: audioread>=2.1.9 in /usr/local/lib/python3.10/dist-packages (from librosa) (3.0.1)\n",
            "Requirement already satisfied: numpy!=1.22.0,!=1.22.1,!=1.22.2,>=1.20.3 in /usr/local/lib/python3.10/dist-packages (from librosa) (1.26.4)\n",
            "Requirement already satisfied: scipy>=1.2.0 in /usr/local/lib/python3.10/dist-packages (from librosa) (1.13.1)\n",
            "Requirement already satisfied: scikit-learn>=0.20.0 in /usr/local/lib/python3.10/dist-packages (from librosa) (1.5.2)\n",
            "Requirement already satisfied: joblib>=0.14 in /usr/local/lib/python3.10/dist-packages (from librosa) (1.4.2)\n",
            "Requirement already satisfied: decorator>=4.3.0 in /usr/local/lib/python3.10/dist-packages (from librosa) (4.4.2)\n",
            "Requirement already satisfied: numba>=0.51.0 in /usr/local/lib/python3.10/dist-packages (from librosa) (0.60.0)\n",
            "Requirement already satisfied: soundfile>=0.12.1 in /usr/local/lib/python3.10/dist-packages (from librosa) (0.12.1)\n",
            "Requirement already satisfied: pooch>=1.1 in /usr/local/lib/python3.10/dist-packages (from librosa) (1.8.2)\n",
            "Requirement already satisfied: soxr>=0.3.2 in /usr/local/lib/python3.10/dist-packages (from librosa) (0.5.0.post1)\n",
            "Requirement already satisfied: typing-extensions>=4.1.1 in /usr/local/lib/python3.10/dist-packages (from librosa) (4.12.2)\n",
            "Requirement already satisfied: lazy-loader>=0.1 in /usr/local/lib/python3.10/dist-packages (from librosa) (0.4)\n",
            "Requirement already satisfied: msgpack>=1.0 in /usr/local/lib/python3.10/dist-packages (from librosa) (1.1.0)\n",
            "Requirement already satisfied: packaging in /usr/local/lib/python3.10/dist-packages (from lazy-loader>=0.1->librosa) (24.1)\n",
            "Requirement already satisfied: llvmlite<0.44,>=0.43.0dev0 in /usr/local/lib/python3.10/dist-packages (from numba>=0.51.0->librosa) (0.43.0)\n",
            "Requirement already satisfied: platformdirs>=2.5.0 in /usr/local/lib/python3.10/dist-packages (from pooch>=1.1->librosa) (4.3.6)\n",
            "Requirement already satisfied: requests>=2.19.0 in /usr/local/lib/python3.10/dist-packages (from pooch>=1.1->librosa) (2.32.3)\n",
            "Requirement already satisfied: threadpoolctl>=3.1.0 in /usr/local/lib/python3.10/dist-packages (from scikit-learn>=0.20.0->librosa) (3.5.0)\n",
            "Requirement already satisfied: cffi>=1.0 in /usr/local/lib/python3.10/dist-packages (from soundfile>=0.12.1->librosa) (1.17.1)\n",
            "Requirement already satisfied: pycparser in /usr/local/lib/python3.10/dist-packages (from cffi>=1.0->soundfile>=0.12.1->librosa) (2.22)\n",
            "Requirement already satisfied: charset-normalizer<4,>=2 in /usr/local/lib/python3.10/dist-packages (from requests>=2.19.0->pooch>=1.1->librosa) (3.4.0)\n",
            "Requirement already satisfied: idna<4,>=2.5 in /usr/local/lib/python3.10/dist-packages (from requests>=2.19.0->pooch>=1.1->librosa) (3.10)\n",
            "Requirement already satisfied: urllib3<3,>=1.21.1 in /usr/local/lib/python3.10/dist-packages (from requests>=2.19.0->pooch>=1.1->librosa) (2.2.3)\n",
            "Requirement already satisfied: certifi>=2017.4.17 in /usr/local/lib/python3.10/dist-packages (from requests>=2.19.0->pooch>=1.1->librosa) (2024.8.30)\n",
            "Training features shape: (678, 40)\n",
            "Training labels shape: (678,)\n"
          ]
        }
      ]
    },
    {
      "cell_type": "code",
      "source": [
        "\n",
        "X_train_split, X_val, y_train_split, y_val = train_test_split(X_train, y_train, test_size=0.2, random_state=42)\n",
        "model = RandomForestClassifier(n_estimators=100, random_state=42)\n",
        "model.fit(X_train_split, y_train_split)\n",
        "y_val_pred = model.predict(X_val)\n",
        "accuracy = accuracy_score(y_val, y_val_pred)\n",
        "print(\"Validation Accuracy:\", accuracy)\n",
        "print(classification_report(y_val, y_val_pred))\n"
      ],
      "metadata": {
        "colab": {
          "base_uri": "https://localhost:8080/"
        },
        "id": "cv5cm4upm9Zn",
        "outputId": "e0da9d50-b3b9-4cf1-f897-f206f534e5ac"
      },
      "execution_count": 11,
      "outputs": [
        {
          "output_type": "stream",
          "name": "stdout",
          "text": [
            "Validation Accuracy: 0.7352941176470589\n",
            "              precision    recall  f1-score   support\n",
            "\n",
            "       Major       0.73      0.84      0.78        77\n",
            "       Minor       0.74      0.59      0.66        59\n",
            "\n",
            "    accuracy                           0.74       136\n",
            "   macro avg       0.74      0.72      0.72       136\n",
            "weighted avg       0.74      0.74      0.73       136\n",
            "\n"
          ]
        }
      ]
    },
    {
      "cell_type": "code",
      "source": [
        "test_features = []\n",
        "\n",
        "for index, row in test_df.iterrows():\n",
        "    file_name = row['New']\n",
        "    features = extract_features(file_name, audio_files_path)\n",
        "    test_features.append(features)\n",
        "\n",
        "X_test = np.array(test_features)\n",
        "test_predictions = model.predict(X_test)\n",
        "submission_df['Classification'] = test_predictions\n",
        "submission_df.to_csv('Submission.csv', index=False)\n",
        "print(\"Predictions saved to Submission.csv\")\n"
      ],
      "metadata": {
        "colab": {
          "base_uri": "https://localhost:8080/"
        },
        "id": "qrD9LiBBm9Ws",
        "outputId": "506a6633-893a-4056-bc35-60e1530bd59b"
      },
      "execution_count": 12,
      "outputs": [
        {
          "output_type": "stream",
          "name": "stdout",
          "text": [
            "Predictions saved to Submission.csv\n"
          ]
        }
      ]
    },
    {
      "cell_type": "code",
      "source": [
        "files.download('Submission.csv')\n"
      ],
      "metadata": {
        "colab": {
          "base_uri": "https://localhost:8080/",
          "height": 17
        },
        "id": "U5JHIrp5m9Tr",
        "outputId": "36cfd768-ca89-4c93-aaca-f29f30cb0290"
      },
      "execution_count": 13,
      "outputs": [
        {
          "output_type": "display_data",
          "data": {
            "text/plain": [
              "<IPython.core.display.Javascript object>"
            ],
            "application/javascript": [
              "\n",
              "    async function download(id, filename, size) {\n",
              "      if (!google.colab.kernel.accessAllowed) {\n",
              "        return;\n",
              "      }\n",
              "      const div = document.createElement('div');\n",
              "      const label = document.createElement('label');\n",
              "      label.textContent = `Downloading \"${filename}\": `;\n",
              "      div.appendChild(label);\n",
              "      const progress = document.createElement('progress');\n",
              "      progress.max = size;\n",
              "      div.appendChild(progress);\n",
              "      document.body.appendChild(div);\n",
              "\n",
              "      const buffers = [];\n",
              "      let downloaded = 0;\n",
              "\n",
              "      const channel = await google.colab.kernel.comms.open(id);\n",
              "      // Send a message to notify the kernel that we're ready.\n",
              "      channel.send({})\n",
              "\n",
              "      for await (const message of channel.messages) {\n",
              "        // Send a message to notify the kernel that we're ready.\n",
              "        channel.send({})\n",
              "        if (message.buffers) {\n",
              "          for (const buffer of message.buffers) {\n",
              "            buffers.push(buffer);\n",
              "            downloaded += buffer.byteLength;\n",
              "            progress.value = downloaded;\n",
              "          }\n",
              "        }\n",
              "      }\n",
              "      const blob = new Blob(buffers, {type: 'application/binary'});\n",
              "      const a = document.createElement('a');\n",
              "      a.href = window.URL.createObjectURL(blob);\n",
              "      a.download = filename;\n",
              "      div.appendChild(a);\n",
              "      a.click();\n",
              "      div.remove();\n",
              "    }\n",
              "  "
            ]
          },
          "metadata": {}
        },
        {
          "output_type": "display_data",
          "data": {
            "text/plain": [
              "<IPython.core.display.Javascript object>"
            ],
            "application/javascript": [
              "download(\"download_86a487ec-756c-45a0-82d0-047c44623067\", \"Submission.csv\", 1101)"
            ]
          },
          "metadata": {}
        }
      ]
    },
    {
      "cell_type": "code",
      "source": [
        "def extract_features(file_name, audio_dir):\n",
        "    file_path = os.path.join(audio_dir, file_name)\n",
        "    audio, sample_rate = librosa.load(file_path, res_type='kaiser_fast')\n",
        "    mfccs = librosa.feature.mfcc(y=audio, sr=sample_rate, n_mfcc=40)\n",
        "    mfccs_scaled = np.mean(mfccs.T, axis=0)\n",
        "    chroma = librosa.feature.chroma_stft(y=audio, sr=sample_rate)\n",
        "    chroma_scaled = np.mean(chroma.T, axis=0)\n",
        "    spec_contrast = librosa.feature.spectral_contrast(y=audio, sr=sample_rate)\n",
        "    spec_contrast_scaled = np.mean(spec_contrast.T, axis=0)\n",
        "    tonnetz = librosa.feature.tonnetz(y=librosa.effects.harmonic(audio), sr=sample_rate)\n",
        "    tonnetz_scaled = np.mean(tonnetz.T, axis=0)\n",
        "    features = np.concatenate((mfccs_scaled, chroma_scaled, spec_contrast_scaled, tonnetz_scaled))\n",
        "\n",
        "    return features\n",
        "train_features = []\n",
        "train_labels = []\n",
        "\n",
        "for index, row in train_df.iterrows():\n",
        "    file_name = row['New']\n",
        "    label = row['Classification']\n",
        "    features = extract_features(file_name, audio_files_path)\n",
        "\n",
        "    train_features.append(features)\n",
        "    train_labels.append(label)\n",
        "\n",
        "X_train = np.array(train_features)\n",
        "y_train = np.array(train_labels)\n",
        "\n",
        "print(\"Updated Training features shape:\", X_train.shape)\n"
      ],
      "metadata": {
        "colab": {
          "base_uri": "https://localhost:8080/"
        },
        "id": "7InF2dn8p_Zg",
        "outputId": "28f830cd-1495-43b7-f478-bbec09bfdece"
      },
      "execution_count": 14,
      "outputs": [
        {
          "output_type": "stream",
          "name": "stdout",
          "text": [
            "Updated Training features shape: (678, 65)\n"
          ]
        }
      ]
    },
    {
      "cell_type": "code",
      "source": [
        "from sklearn.ensemble import GradientBoostingClassifier\n",
        "from sklearn.model_selection import GridSearchCV\n",
        "gb_model = GradientBoostingClassifier()\n",
        "param_grid = {\n",
        "    'n_estimators': [100, 200],\n",
        "    'learning_rate': [0.05, 0.1],\n",
        "    'max_depth': [3, 5]\n",
        "}\n",
        "grid_search = GridSearchCV(estimator=gb_model, param_grid=param_grid, cv=3, scoring='accuracy', n_jobs=-1)\n",
        "grid_search.fit(X_train, y_train)\n",
        "best_gb_model = grid_search.best_estimator_\n",
        "print(\"Best Parameters:\", grid_search.best_params_)\n",
        "print(\"Best CV Accuracy:\", grid_search.best_score_)\n"
      ],
      "metadata": {
        "colab": {
          "base_uri": "https://localhost:8080/"
        },
        "id": "SZ2CK55vqAH9",
        "outputId": "1d7b761d-7449-4938-cdf8-f4fafbf9f87a"
      },
      "execution_count": 15,
      "outputs": [
        {
          "output_type": "stream",
          "name": "stdout",
          "text": [
            "Best Parameters: {'learning_rate': 0.1, 'max_depth': 5, 'n_estimators': 200}\n",
            "Best CV Accuracy: 0.7920353982300886\n"
          ]
        }
      ]
    },
    {
      "cell_type": "code",
      "source": [
        "X_train_split, X_val, y_train_split, y_val = train_test_split(X_train, y_train, test_size=0.2, random_state=42)\n",
        "best_gb_model.fit(X_train_split, y_train_split)\n",
        "y_val_pred = best_gb_model.predict(X_val)\n",
        "accuracy = accuracy_score(y_val, y_val_pred)\n",
        "print(\"Updated Validation Accuracy:\", accuracy)\n",
        "print(classification_report(y_val, y_val_pred))\n"
      ],
      "metadata": {
        "colab": {
          "base_uri": "https://localhost:8080/"
        },
        "id": "sR8Eazm7qFZN",
        "outputId": "11ae3d74-645e-451c-e8c0-8f60865fb1c6"
      },
      "execution_count": 16,
      "outputs": [
        {
          "output_type": "stream",
          "name": "stdout",
          "text": [
            "Updated Validation Accuracy: 0.7573529411764706\n",
            "              precision    recall  f1-score   support\n",
            "\n",
            "       Major       0.79      0.78      0.78        77\n",
            "       Minor       0.72      0.73      0.72        59\n",
            "\n",
            "    accuracy                           0.76       136\n",
            "   macro avg       0.75      0.75      0.75       136\n",
            "weighted avg       0.76      0.76      0.76       136\n",
            "\n"
          ]
        }
      ]
    },
    {
      "cell_type": "code",
      "source": [
        "test_features = []\n",
        "\n",
        "for index, row in test_df.iterrows():\n",
        "    file_name = row['New']\n",
        "    features = extract_features(file_name, audio_files_path)\n",
        "    test_features.append(features)\n",
        "\n",
        "X_test = np.array(test_features)\\\n",
        "test_predictions = best_gb_model.predict(X_test)\n",
        "\n",
        "submission_df['Classification'] = test_predictions\n",
        "submission_df.to_csv('Submission.csv', index=False)\n",
        "print(\"Updated predictions saved to Submission.csv\")\n"
      ],
      "metadata": {
        "colab": {
          "base_uri": "https://localhost:8080/"
        },
        "id": "jJcPz-H7qIpf",
        "outputId": "6b37381c-2e2c-44e7-f647-3233dc120068"
      },
      "execution_count": 17,
      "outputs": [
        {
          "output_type": "stream",
          "name": "stdout",
          "text": [
            "Updated predictions saved to Submission.csv\n"
          ]
        }
      ]
    },
    {
      "cell_type": "code",
      "source": [
        "\n",
        "from google.colab import files\n",
        "files.download('Submission.csv')\n"
      ],
      "metadata": {
        "colab": {
          "base_uri": "https://localhost:8080/",
          "height": 17
        },
        "id": "-03MdpK3qLZ4",
        "outputId": "2bc5bbbe-eb49-4acf-cc5d-ecd375c40983"
      },
      "execution_count": 18,
      "outputs": [
        {
          "output_type": "display_data",
          "data": {
            "text/plain": [
              "<IPython.core.display.Javascript object>"
            ],
            "application/javascript": [
              "\n",
              "    async function download(id, filename, size) {\n",
              "      if (!google.colab.kernel.accessAllowed) {\n",
              "        return;\n",
              "      }\n",
              "      const div = document.createElement('div');\n",
              "      const label = document.createElement('label');\n",
              "      label.textContent = `Downloading \"${filename}\": `;\n",
              "      div.appendChild(label);\n",
              "      const progress = document.createElement('progress');\n",
              "      progress.max = size;\n",
              "      div.appendChild(progress);\n",
              "      document.body.appendChild(div);\n",
              "\n",
              "      const buffers = [];\n",
              "      let downloaded = 0;\n",
              "\n",
              "      const channel = await google.colab.kernel.comms.open(id);\n",
              "      // Send a message to notify the kernel that we're ready.\n",
              "      channel.send({})\n",
              "\n",
              "      for await (const message of channel.messages) {\n",
              "        // Send a message to notify the kernel that we're ready.\n",
              "        channel.send({})\n",
              "        if (message.buffers) {\n",
              "          for (const buffer of message.buffers) {\n",
              "            buffers.push(buffer);\n",
              "            downloaded += buffer.byteLength;\n",
              "            progress.value = downloaded;\n",
              "          }\n",
              "        }\n",
              "      }\n",
              "      const blob = new Blob(buffers, {type: 'application/binary'});\n",
              "      const a = document.createElement('a');\n",
              "      a.href = window.URL.createObjectURL(blob);\n",
              "      a.download = filename;\n",
              "      div.appendChild(a);\n",
              "      a.click();\n",
              "      div.remove();\n",
              "    }\n",
              "  "
            ]
          },
          "metadata": {}
        },
        {
          "output_type": "display_data",
          "data": {
            "text/plain": [
              "<IPython.core.display.Javascript object>"
            ],
            "application/javascript": [
              "download(\"download_ad8a6a74-6c30-45a3-a628-23feb1379f76\", \"Submission.csv\", 1101)"
            ]
          },
          "metadata": {}
        }
      ]
    },
    {
      "cell_type": "code",
      "source": [
        "!pip install xgboost\n",
        "from sklearn.preprocessing import StandardScaler\n",
        "from xgboost import XGBClassifier\n"
      ],
      "metadata": {
        "colab": {
          "base_uri": "https://localhost:8080/"
        },
        "id": "5IJpnMLrslhZ",
        "outputId": "6023f5ed-7af4-4e80-b3a5-984906cff245"
      },
      "execution_count": 19,
      "outputs": [
        {
          "output_type": "stream",
          "name": "stdout",
          "text": [
            "Requirement already satisfied: xgboost in /usr/local/lib/python3.10/dist-packages (2.1.1)\n",
            "Requirement already satisfied: numpy in /usr/local/lib/python3.10/dist-packages (from xgboost) (1.26.4)\n",
            "Requirement already satisfied: nvidia-nccl-cu12 in /usr/local/lib/python3.10/dist-packages (from xgboost) (2.23.4)\n",
            "Requirement already satisfied: scipy in /usr/local/lib/python3.10/dist-packages (from xgboost) (1.13.1)\n"
          ]
        }
      ]
    },
    {
      "cell_type": "code",
      "source": [
        "scaler = StandardScaler()\n",
        "X_train_scaled = scaler.fit_transform(X_train)\n",
        "X_train_split_scaled, X_val_scaled = train_test_split(X_train_scaled, test_size=0.2, random_state=42)\n"
      ],
      "metadata": {
        "id": "MgPS7ZYxsleB"
      },
      "execution_count": 20,
      "outputs": []
    },
    {
      "cell_type": "code",
      "source": [
        "from sklearn.preprocessing import LabelEncoder, StandardScaler\n",
        "import xgboost as xgb\n",
        "label_encoder = LabelEncoder()\n",
        "y_train_encoded = label_encoder.fit_transform(y_train)\n"
      ],
      "metadata": {
        "id": "RjJE8SUlslbk"
      },
      "execution_count": 24,
      "outputs": []
    },
    {
      "cell_type": "code",
      "source": [
        "scaler = StandardScaler()\n",
        "X_train_scaled = scaler.fit_transform(X_train)\n",
        "X_train_split_scaled, X_val_scaled, y_train_split_encoded, y_val_encoded = train_test_split(\n",
        "    X_train_scaled, y_train_encoded, test_size=0.2, random_state=42\n",
        ")\n",
        "xgb_model = xgb.XGBClassifier(eval_metric=\"mlogloss\", use_label_encoder=False)\n",
        "param_grid_xgb = {\n",
        "    'n_estimators': [100, 200, 300],\n",
        "    'max_depth': [3, 5, 7],\n",
        "    'learning_rate': [0.05, 0.1, 0.2]\n",
        "}\n",
        "\n",
        "grid_search_xgb = GridSearchCV(estimator=xgb_model, param_grid=param_grid_xgb, cv=3, scoring='accuracy', n_jobs=-1)\n",
        "grid_search_xgb.fit(X_train_scaled, y_train_encoded)\n",
        "best_xgb_model = grid_search_xgb.best_estimator_\n",
        "best_xgb_model.fit(X_train_split_scaled, y_train_split_encoded)\n",
        "y_val_pred = best_xgb_model.predict(X_val_scaled)\n",
        "accuracy = accuracy_score(y_val_encoded, y_val_pred)\n",
        "print(\"Updated Validation Accuracy with XGBoost:\", accuracy)\n",
        "print(classification_report(y_val_encoded, y_val_pred))\n"
      ],
      "metadata": {
        "colab": {
          "base_uri": "https://localhost:8080/"
        },
        "id": "CPoWqRrKtmyu",
        "outputId": "1ff41ed8-28fe-4770-af51-d8922f78c0e4"
      },
      "execution_count": 23,
      "outputs": [
        {
          "output_type": "stream",
          "name": "stdout",
          "text": [
            "Updated Validation Accuracy with XGBoost: 0.7867647058823529\n",
            "              precision    recall  f1-score   support\n",
            "\n",
            "           0       0.82      0.81      0.81        77\n",
            "           1       0.75      0.76      0.76        59\n",
            "\n",
            "    accuracy                           0.79       136\n",
            "   macro avg       0.78      0.78      0.78       136\n",
            "weighted avg       0.79      0.79      0.79       136\n",
            "\n"
          ]
        }
      ]
    },
    {
      "cell_type": "code",
      "source": [
        "X_test_scaled = scaler.transform(X_test)\n",
        "test_predictions_encoded = best_xgb_model.predict(X_test_scaled)\n",
        "test_predictions = label_encoder.inverse_transform(test_predictions_encoded)\n",
        "\n",
        "submission_df['Classification'] = test_predictions\n",
        "submission_df.to_csv('Submission.csv', index=False)\n",
        "print(\"Updated predictions saved to Submission.csv\")\n",
        "\n",
        "files.download('Submission.csv')\n",
        "\n"
      ],
      "metadata": {
        "colab": {
          "base_uri": "https://localhost:8080/",
          "height": 34
        },
        "id": "soKBU7v6slXg",
        "outputId": "e5402bb7-e669-48ea-9166-6b96dc3bcd6a"
      },
      "execution_count": 25,
      "outputs": [
        {
          "output_type": "stream",
          "name": "stdout",
          "text": [
            "Updated predictions saved to Submission.csv\n"
          ]
        },
        {
          "output_type": "display_data",
          "data": {
            "text/plain": [
              "<IPython.core.display.Javascript object>"
            ],
            "application/javascript": [
              "\n",
              "    async function download(id, filename, size) {\n",
              "      if (!google.colab.kernel.accessAllowed) {\n",
              "        return;\n",
              "      }\n",
              "      const div = document.createElement('div');\n",
              "      const label = document.createElement('label');\n",
              "      label.textContent = `Downloading \"${filename}\": `;\n",
              "      div.appendChild(label);\n",
              "      const progress = document.createElement('progress');\n",
              "      progress.max = size;\n",
              "      div.appendChild(progress);\n",
              "      document.body.appendChild(div);\n",
              "\n",
              "      const buffers = [];\n",
              "      let downloaded = 0;\n",
              "\n",
              "      const channel = await google.colab.kernel.comms.open(id);\n",
              "      // Send a message to notify the kernel that we're ready.\n",
              "      channel.send({})\n",
              "\n",
              "      for await (const message of channel.messages) {\n",
              "        // Send a message to notify the kernel that we're ready.\n",
              "        channel.send({})\n",
              "        if (message.buffers) {\n",
              "          for (const buffer of message.buffers) {\n",
              "            buffers.push(buffer);\n",
              "            downloaded += buffer.byteLength;\n",
              "            progress.value = downloaded;\n",
              "          }\n",
              "        }\n",
              "      }\n",
              "      const blob = new Blob(buffers, {type: 'application/binary'});\n",
              "      const a = document.createElement('a');\n",
              "      a.href = window.URL.createObjectURL(blob);\n",
              "      a.download = filename;\n",
              "      div.appendChild(a);\n",
              "      a.click();\n",
              "      div.remove();\n",
              "    }\n",
              "  "
            ]
          },
          "metadata": {}
        },
        {
          "output_type": "display_data",
          "data": {
            "text/plain": [
              "<IPython.core.display.Javascript object>"
            ],
            "application/javascript": [
              "download(\"download_26eee409-29ca-40c7-b11c-d22bec716c5e\", \"Submission.csv\", 1101)"
            ]
          },
          "metadata": {}
        }
      ]
    },
    {
      "cell_type": "code",
      "source": [
        "!pip install xgboost\n",
        "from sklearn.ensemble import RandomForestClassifier, VotingClassifier\n",
        "from sklearn.preprocessing import StandardScaler, LabelEncoder\n",
        "import xgboost as xgb\n",
        "import numpy as np\n"
      ],
      "metadata": {
        "colab": {
          "base_uri": "https://localhost:8080/"
        },
        "id": "sMTL75IhuTW8",
        "outputId": "e780bd18-bb6a-456f-d084-59a3b02612e4"
      },
      "execution_count": 26,
      "outputs": [
        {
          "output_type": "stream",
          "name": "stdout",
          "text": [
            "Requirement already satisfied: xgboost in /usr/local/lib/python3.10/dist-packages (2.1.1)\n",
            "Requirement already satisfied: numpy in /usr/local/lib/python3.10/dist-packages (from xgboost) (1.26.4)\n",
            "Requirement already satisfied: nvidia-nccl-cu12 in /usr/local/lib/python3.10/dist-packages (from xgboost) (2.23.4)\n",
            "Requirement already satisfied: scipy in /usr/local/lib/python3.10/dist-packages (from xgboost) (1.13.1)\n"
          ]
        }
      ]
    },
    {
      "cell_type": "code",
      "source": [
        "scaler = StandardScaler()\n",
        "X_train_scaled = scaler.fit_transform(X_train)\n",
        "X_train_split_scaled, X_val_scaled, y_train_split_encoded, y_val_encoded = train_test_split(\n",
        "    X_train_scaled, y_train_encoded, test_size=0.2, random_state=42\n",
        ")\n",
        "\n",
        "label_encoder = LabelEncoder()\n",
        "y_train_encoded = label_encoder.fit_transform(y_train)\n"
      ],
      "metadata": {
        "id": "zE0fNjnqugOH"
      },
      "execution_count": 27,
      "outputs": []
    },
    {
      "cell_type": "code",
      "source": [
        "xgb_model = xgb.XGBClassifier(eval_metric=\"mlogloss\", use_label_encoder=False)\n",
        "param_grid_xgb = {\n",
        "    'n_estimators': [200, 300],\n",
        "    'max_depth': [5, 7],\n",
        "    'learning_rate': [0.1, 0.2]\n",
        "}\n",
        "\n",
        "grid_search_xgb = GridSearchCV(estimator=xgb_model, param_grid=param_grid_xgb, cv=3, scoring='accuracy', n_jobs=-1)\n",
        "grid_search_xgb.fit(X_train_scaled, y_train_encoded)\n",
        "best_xgb_model = grid_search_xgb.best_estimator_\n"
      ],
      "metadata": {
        "id": "kj-OAUezugyg"
      },
      "execution_count": 28,
      "outputs": []
    },
    {
      "cell_type": "code",
      "source": [
        "rf_model = RandomForestClassifier(random_state=42)\n",
        "param_grid_rf = {\n",
        "    'n_estimators': [200, 300],\n",
        "    'max_depth': [10, 15],\n",
        "    'min_samples_split': [2, 5]\n",
        "}\n",
        "\n",
        "grid_search_rf = GridSearchCV(estimator=rf_model, param_grid=param_grid_rf, cv=3, scoring='accuracy', n_jobs=-1)\n",
        "grid_search_rf.fit(X_train_scaled, y_train_encoded)\n",
        "best_rf_model = grid_search_rf.best_estimator_\n"
      ],
      "metadata": {
        "id": "LFk3-6wOuisO"
      },
      "execution_count": 29,
      "outputs": []
    },
    {
      "cell_type": "code",
      "source": [
        "ensemble_model = VotingClassifier(\n",
        "    estimators=[('xgb', best_xgb_model), ('rf', best_rf_model)],\n",
        "    voting='soft'\n",
        ")\n",
        "\n",
        "ensemble_model.fit(X_train_split_scaled, y_train_split_encoded)\n",
        "y_val_pred = ensemble_model.predict(X_val_scaled)\n",
        "accuracy = accuracy_score(y_val_encoded, y_val_pred)\n",
        "print(\"Validation Accuracy with Ensemble:\", accuracy)\n",
        "print(classification_report(y_val_encoded, y_val_pred))\n"
      ],
      "metadata": {
        "colab": {
          "base_uri": "https://localhost:8080/"
        },
        "id": "EV8ubIIMumRi",
        "outputId": "e1f746de-2956-4ae2-c8ed-f5c25421a34c"
      },
      "execution_count": 30,
      "outputs": [
        {
          "output_type": "stream",
          "name": "stdout",
          "text": [
            "Validation Accuracy with Ensemble: 0.8014705882352942\n",
            "              precision    recall  f1-score   support\n",
            "\n",
            "           0       0.82      0.83      0.83        77\n",
            "           1       0.78      0.76      0.77        59\n",
            "\n",
            "    accuracy                           0.80       136\n",
            "   macro avg       0.80      0.80      0.80       136\n",
            "weighted avg       0.80      0.80      0.80       136\n",
            "\n"
          ]
        }
      ]
    },
    {
      "cell_type": "code",
      "source": [
        "X_test_scaled = scaler.transform(X_test)\n",
        "test_predictions_encoded = ensemble_model.predict(X_test_scaled)\n",
        "test_predictions = label_encoder.inverse_transform(test_predictions_encoded)\n",
        "\n",
        "submission_df['Classification'] = test_predictions\n",
        "submission_df.to_csv('Submission.csv', index=False)\n",
        "files.download('Submission.csv')\n"
      ],
      "metadata": {
        "colab": {
          "base_uri": "https://localhost:8080/",
          "height": 17
        },
        "id": "juB3IUeEum1U",
        "outputId": "167077cd-1362-4071-cddc-f76fc8062238"
      },
      "execution_count": 31,
      "outputs": [
        {
          "output_type": "display_data",
          "data": {
            "text/plain": [
              "<IPython.core.display.Javascript object>"
            ],
            "application/javascript": [
              "\n",
              "    async function download(id, filename, size) {\n",
              "      if (!google.colab.kernel.accessAllowed) {\n",
              "        return;\n",
              "      }\n",
              "      const div = document.createElement('div');\n",
              "      const label = document.createElement('label');\n",
              "      label.textContent = `Downloading \"${filename}\": `;\n",
              "      div.appendChild(label);\n",
              "      const progress = document.createElement('progress');\n",
              "      progress.max = size;\n",
              "      div.appendChild(progress);\n",
              "      document.body.appendChild(div);\n",
              "\n",
              "      const buffers = [];\n",
              "      let downloaded = 0;\n",
              "\n",
              "      const channel = await google.colab.kernel.comms.open(id);\n",
              "      // Send a message to notify the kernel that we're ready.\n",
              "      channel.send({})\n",
              "\n",
              "      for await (const message of channel.messages) {\n",
              "        // Send a message to notify the kernel that we're ready.\n",
              "        channel.send({})\n",
              "        if (message.buffers) {\n",
              "          for (const buffer of message.buffers) {\n",
              "            buffers.push(buffer);\n",
              "            downloaded += buffer.byteLength;\n",
              "            progress.value = downloaded;\n",
              "          }\n",
              "        }\n",
              "      }\n",
              "      const blob = new Blob(buffers, {type: 'application/binary'});\n",
              "      const a = document.createElement('a');\n",
              "      a.href = window.URL.createObjectURL(blob);\n",
              "      a.download = filename;\n",
              "      div.appendChild(a);\n",
              "      a.click();\n",
              "      div.remove();\n",
              "    }\n",
              "  "
            ]
          },
          "metadata": {}
        },
        {
          "output_type": "display_data",
          "data": {
            "text/plain": [
              "<IPython.core.display.Javascript object>"
            ],
            "application/javascript": [
              "download(\"download_bc8e0b36-c36e-4735-8590-cc221c0e9412\", \"Submission.csv\", 1101)"
            ]
          },
          "metadata": {}
        }
      ]
    }
  ]
}